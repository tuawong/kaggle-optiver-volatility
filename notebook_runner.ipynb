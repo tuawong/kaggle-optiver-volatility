{
 "cells": [
  {
   "cell_type": "code",
   "execution_count": 2,
   "source": [
    "from train import optiver_train_and_log_experiment"
   ],
   "outputs": [],
   "metadata": {}
  },
  {
   "cell_type": "markdown",
   "source": [
    "## Iterating Time Period Cutoffs"
   ],
   "metadata": {}
  },
  {
   "cell_type": "code",
   "execution_count": 3,
   "source": [
    "cutoffs_list =  [\r\n",
    "    [(0,600)], \r\n",
    "    [(0,300), (300, 600)], \r\n",
    "    [(0,200), (200, 400), (400, 600)],  \r\n",
    "    [(0,150), (150, 300), (300, 450), (450, 600)],\r\n",
    "    [(0,100), (100, 200), (200, 300), (300, 400), (400, 500), (500, 600)],\r\n",
    "    [(0,600), (150, 600), (300, 600), (450, 600)]\r\n",
    "]\r\n",
    "\r\n",
    "for cutoffs in cutoffs_list:\r\n",
    "    run_name = f'LOFO_{cutoffs}'\r\n",
    "    optiver_train_and_log_experiment(\r\n",
    "        run_name=run_name, \r\n",
    "        time_cutoffs=cutoffs, \r\n",
    "        lofo_threshold = 0, \r\n",
    "        from_scratch=True\r\n",
    "    )"
   ],
   "outputs": [
    {
     "output_type": "stream",
     "name": "stderr",
     "text": [
      "2021-10-17 15:45:22,707 - logfile - INFO - ...Currently Running LOFO_[(0, 600)]...\n",
      "2021-10-17 15:45:23,676 - logfile - INFO - ...Currently Feature Engineering From Scratch...\n",
      "100%|██████████| 112/112 [04:55<00:00,  2.64s/it]\n",
      "2021-10-17 15:51:01,557 - logfile - INFO - ...Currently Training First LGBM...\n",
      "2021-10-17 15:51:50,197 - logfile - INFO - ...Currently Performing LOFO...\n",
      "100%|██████████| 79/79 [00:36<00:00,  2.14it/s]\n",
      "2021-10-17 15:52:28,562 - logfile - INFO - ...Currently Training Final Model...\n",
      "2021-10-17 15:53:12,255 - logfile - INFO - ...Training Ends...\n",
      "\n",
      "2021-10-17 15:53:12,256 - logfile - INFO - ...Currently Running LOFO_[(0, 300), (300, 600)]...\n",
      "2021-10-17 15:53:12,942 - logfile - INFO - ...Currently Feature Engineering From Scratch...\n",
      "100%|██████████| 112/112 [04:27<00:00,  2.39s/it]\n",
      "100%|██████████| 112/112 [04:22<00:00,  2.34s/it]\n",
      "2021-10-17 16:03:24,753 - logfile - INFO - ...Currently Training First LGBM...\n",
      "2021-10-17 16:04:43,541 - logfile - INFO - ...Currently Performing LOFO...\n",
      "100%|██████████| 158/158 [02:00<00:00,  1.31it/s]\n",
      "2021-10-17 16:06:45,467 - logfile - INFO - ...Currently Training Final Model...\n",
      "2021-10-17 16:07:23,677 - logfile - INFO - ...Training Ends...\n",
      "\n",
      "2021-10-17 16:07:23,678 - logfile - INFO - ...Currently Running LOFO_[(0, 200), (200, 400), (400, 600)]...\n",
      "2021-10-17 16:07:24,369 - logfile - INFO - ...Currently Feature Engineering From Scratch...\n",
      "100%|██████████| 112/112 [04:20<00:00,  2.32s/it]\n",
      "100%|██████████| 112/112 [04:16<00:00,  2.29s/it]\n",
      "100%|██████████| 112/112 [04:23<00:00,  2.35s/it]\n",
      "2021-10-17 16:22:16,211 - logfile - INFO - ...Currently Training First LGBM...\n",
      "2021-10-17 16:23:24,299 - logfile - INFO - ...Currently Performing LOFO...\n",
      "100%|██████████| 237/237 [04:12<00:00,  1.07s/it]\n",
      "2021-10-17 16:27:38,818 - logfile - INFO - ...Currently Training Final Model...\n",
      "2021-10-17 16:28:36,589 - logfile - INFO - ...Training Ends...\n",
      "\n",
      "2021-10-17 16:28:36,590 - logfile - INFO - ...Currently Running LOFO_[(0, 150), (150, 300), (300, 450), (450, 600)]...\n",
      "2021-10-17 16:28:37,275 - logfile - INFO - ...Currently Feature Engineering From Scratch...\n",
      "100%|██████████| 112/112 [04:30<00:00,  2.41s/it]\n",
      "100%|██████████| 112/112 [04:21<00:00,  2.33s/it]\n",
      "100%|██████████| 112/112 [04:14<00:00,  2.28s/it]\n",
      "100%|██████████| 112/112 [04:07<00:00,  2.21s/it]\n",
      "2021-10-17 16:48:23,976 - logfile - INFO - ...Currently Training First LGBM...\n",
      "2021-10-17 16:49:52,005 - logfile - INFO - ...Currently Performing LOFO...\n",
      "100%|██████████| 316/316 [07:06<00:00,  1.35s/it]\n",
      "2021-10-17 16:57:00,462 - logfile - INFO - ...Currently Training Final Model...\n",
      "2021-10-17 16:58:05,906 - logfile - INFO - ...Training Ends...\n",
      "\n",
      "2021-10-17 16:58:05,907 - logfile - INFO - ...Currently Running LOFO_[(0, 100), (100, 200), (200, 300), (300, 400), (400, 500), (500, 600)]...\n",
      "2021-10-17 16:58:06,624 - logfile - INFO - ...Currently Feature Engineering From Scratch...\n",
      "100%|██████████| 112/112 [04:03<00:00,  2.18s/it]\n",
      "100%|██████████| 112/112 [03:55<00:00,  2.10s/it]\n",
      "100%|██████████| 112/112 [03:53<00:00,  2.08s/it]\n",
      "100%|██████████| 112/112 [03:45<00:00,  2.01s/it]\n",
      "100%|██████████| 112/112 [03:48<00:00,  2.04s/it]\n",
      "100%|██████████| 112/112 [03:54<00:00,  2.09s/it]\n",
      "2021-10-17 17:24:52,412 - logfile - INFO - ...Currently Training First LGBM...\n",
      "2021-10-17 17:27:14,903 - logfile - INFO - ...Currently Performing LOFO...\n",
      "100%|██████████| 474/474 [15:03<00:00,  1.91s/it]\n",
      "2021-10-17 17:42:21,281 - logfile - INFO - ...Currently Training Final Model...\n",
      "2021-10-17 17:43:50,167 - logfile - INFO - ...Training Ends...\n",
      "\n",
      "2021-10-17 17:43:50,169 - logfile - INFO - ...Currently Running LOFO_[(0, 600), (150, 600), (300, 600), (450, 600)]...\n",
      "2021-10-17 17:43:50,896 - logfile - INFO - ...Currently Feature Engineering From Scratch...\n",
      "100%|██████████| 112/112 [04:18<00:00,  2.31s/it]\n",
      "100%|██████████| 112/112 [03:59<00:00,  2.14s/it]\n",
      "100%|██████████| 112/112 [03:56<00:00,  2.11s/it]\n",
      "100%|██████████| 112/112 [03:58<00:00,  2.13s/it]\n",
      "2021-10-17 18:02:27,354 - logfile - INFO - ...Currently Training First LGBM...\n",
      "2021-10-17 18:03:37,681 - logfile - INFO - ...Currently Performing LOFO...\n",
      "100%|██████████| 316/316 [07:48<00:00,  1.48s/it]\n",
      "2021-10-17 18:11:28,684 - logfile - INFO - ...Currently Training Final Model...\n",
      "2021-10-17 18:12:38,889 - logfile - INFO - ...Training Ends...\n",
      "\n"
     ]
    }
   ],
   "metadata": {}
  },
  {
   "cell_type": "markdown",
   "source": [
    "## Hyperparameter Tuning Best Cutoffs"
   ],
   "metadata": {}
  },
  {
   "cell_type": "code",
   "execution_count": 4,
   "source": [
    "optiver_train_and_log_experiment(\r\n",
    "    run_name='best_cutoff_tuned', \r\n",
    "    time_cutoffs=[(0,150), (150, 300), (300, 450), (450, 600)], \r\n",
    "    lofo_threshold = 0, \r\n",
    "    hyp_tuning=True, \r\n",
    "    hyp_tuning_time=18000\r\n",
    ")"
   ],
   "outputs": [
    {
     "output_type": "stream",
     "name": "stderr",
     "text": [
      "2021-10-17 18:12:38,983 - logfile - INFO - ...Currently Running best_cutoff_tuned...\n",
      "2021-10-17 18:12:39,741 - logfile - INFO - ...Currently Loading Feature Engineered Data...\n",
      "2021-10-17 18:12:40,566 - logfile - INFO - ...Currently Training First LGBM...\n",
      "2021-10-17 18:14:04,977 - logfile - INFO - ...Currently Performing LOFO...\n",
      "100%|██████████| 316/316 [07:03<00:00,  1.34s/it]\n",
      "2021-10-17 18:21:10,314 - logfile - INFO - ...Currently Tuning Hyperparameter...\n",
      "2021-10-17 23:22:15,652 - logfile - INFO - ...Currently Training Final Model...\n",
      "2021-10-17 23:23:29,464 - logfile - INFO - ...Training Ends...\n",
      "\n"
     ]
    }
   ],
   "metadata": {}
  }
 ],
 "metadata": {
  "orig_nbformat": 4,
  "language_info": {
   "name": "python",
   "version": "3.8.3",
   "mimetype": "text/x-python",
   "codemirror_mode": {
    "name": "ipython",
    "version": 3
   },
   "pygments_lexer": "ipython3",
   "nbconvert_exporter": "python",
   "file_extension": ".py"
  },
  "kernelspec": {
   "name": "python3",
   "display_name": "Python 3.8.3 64-bit ('base': conda)"
  },
  "interpreter": {
   "hash": "8306dfeffe99d5a396452c01da02b21b73a31270164607f570944acdd1bb5a92"
  }
 },
 "nbformat": 4,
 "nbformat_minor": 2
}