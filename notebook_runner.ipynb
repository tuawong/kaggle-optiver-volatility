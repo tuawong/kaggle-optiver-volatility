{
 "cells": [
  {
   "cell_type": "code",
   "execution_count": 1,
   "source": [
    "from train import optiver_train_and_log_experiment"
   ],
   "outputs": [],
   "metadata": {}
  },
  {
   "cell_type": "markdown",
   "source": [
    "## Iterating Time Period Cutoffs"
   ],
   "metadata": {}
  },
  {
   "cell_type": "code",
   "execution_count": 2,
   "source": [
    "cutoffs_list =  [\r\n",
    "    [(0,600)], \r\n",
    "    [(0,300), (300, 600)], \r\n",
    "    [(0,200), (200, 400), (400, 600)],  \r\n",
    "    [(0,150), (150, 300), (300, 450), (450, 600)],\r\n",
    "    [(0,100), (100, 200), (200, 300), (300, 400), (400, 500), (500, 600)],\r\n",
    "    [(0,600), (150, 600), (300, 600), (450, 600)]\r\n",
    "]\r\n",
    "\r\n",
    "for cutoffs in cutoffs_list:\r\n",
    "    run_name = f'LOFO_{cutoffs}'\r\n",
    "    optiver_train_and_log_experiment(\r\n",
    "        run_name=run_name, \r\n",
    "        time_cutoffs=cutoffs, \r\n",
    "        lofo_threshold = 0, \r\n",
    "        from_scratch=True\r\n",
    "    )"
   ],
   "outputs": [
    {
     "output_type": "stream",
     "name": "stderr",
     "text": [
      "2021-10-16 15:11:45,660 - logfile - INFO - ...Currently Running LOFO_[(0, 600)]...\n",
      "2021-10-16 15:11:46,701 - logfile - INFO - ...Currently Feature Engineering From Scratch...\n",
      "  0%|          | 0/112 [00:00<?, ?it/s]"
     ]
    }
   ],
   "metadata": {}
  },
  {
   "cell_type": "markdown",
   "source": [
    "## Hyperparameter Tuning Best Cutoffs"
   ],
   "metadata": {}
  },
  {
   "cell_type": "code",
   "execution_count": 2,
   "source": [
    "optiver_train_and_log_experiment(\r\n",
    "    run_name='best_cutoff_tuned', \r\n",
    "    time_cutoffs=[(0,150), (150, 300), (300, 450), (450, 600)], \r\n",
    "    lofo_threshold = 0, \r\n",
    "    hyp_tuning=True, \r\n",
    "    hyp_tuning_time=18000\r\n",
    ")"
   ],
   "outputs": [
    {
     "output_type": "stream",
     "name": "stderr",
     "text": [
      "2021-10-02 20:14:42,220 - logfile - INFO - ...Currently Training Final Model...\n",
      "2021-10-02 20:15:42,160 - logfile - INFO - ...Training Ends...\n",
      "\n"
     ]
    }
   ],
   "metadata": {}
  }
 ],
 "metadata": {
  "orig_nbformat": 4,
  "language_info": {
   "name": "python",
   "version": "3.8.3",
   "mimetype": "text/x-python",
   "codemirror_mode": {
    "name": "ipython",
    "version": 3
   },
   "pygments_lexer": "ipython3",
   "nbconvert_exporter": "python",
   "file_extension": ".py"
  },
  "kernelspec": {
   "name": "python3",
   "display_name": "Python 3.8.3 64-bit ('base': conda)"
  },
  "interpreter": {
   "hash": "8306dfeffe99d5a396452c01da02b21b73a31270164607f570944acdd1bb5a92"
  }
 },
 "nbformat": 4,
 "nbformat_minor": 2
}